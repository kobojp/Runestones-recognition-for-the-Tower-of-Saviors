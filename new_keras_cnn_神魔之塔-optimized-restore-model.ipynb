{
 "cells": [
  {
   "cell_type": "markdown",
   "metadata": {},
   "source": [
    "#  Runestone recognition of the Tower of Saviors \n",
    "神魔之塔之符石的影像辨識"
   ]
  },
  {
   "cell_type": "code",
   "execution_count": 1,
   "metadata": {},
   "outputs": [
    {
     "name": "stderr",
     "output_type": "stream",
     "text": [
      "Using TensorFlow backend.\n"
     ]
    }
   ],
   "source": [
    "from __future__ import print_function\n",
    "import keras\n",
    "import numpy as np\n",
    "from keras.datasets import mnist\n",
    "from keras.models import Sequential\n",
    "from keras.layers import Dense, Dropout, Flatten\n",
    "from keras.layers import Conv2D, MaxPooling2D\n",
    "from keras import backend as K\n",
    "from scipy import misc\n",
    "from numpy import genfromtxt\n",
    "import csv\n",
    "from keras import utils as np_utils #自己多加的\n",
    "batch_size = 32\n",
    "num_classes = 7#原本是6\n",
    "epochs = 20 #原本是20\n",
    "file_num = 28    #  原本15個 folder\n",
    "test_num = 30    #  測試幾個image 原本是30\n",
    "test_index = 29 #   測試第幾個folder\n",
    "test_index2 = 30\n",
    "import matplotlib.pyplot as plt"
   ]
  },
  {
   "cell_type": "markdown",
   "metadata": {},
   "source": [
    "# 載入訓練資料與測試資料\n",
    "Loading training data and testing data"
   ]
  },
  {
   "cell_type": "code",
   "execution_count": 2,
   "metadata": {},
   "outputs": [
    {
     "name": "stdout",
     "output_type": "stream",
     "text": [
      "<class 'list'>\n"
     ]
    },
    {
     "name": "stderr",
     "output_type": "stream",
     "text": [
      "C:\\Users\\s9021\\Anaconda3\\lib\\site-packages\\ipykernel_launcher.py:7: DeprecationWarning: `imread` is deprecated!\n",
      "`imread` is deprecated in SciPy 1.0.0, and will be removed in 1.2.0.\n",
      "Use ``imageio.imread`` instead.\n",
      "  import sys\n"
     ]
    }
   ],
   "source": [
    "x_train = []\n",
    "print(type(x_train))\n",
    "for ii in range(0,file_num):\n",
    "     for i in range(0,30):\n",
    "            filename = \"c://test/img_out/\"+str(ii)+\"/\"+str(int(i/6)) + str(i%6) + \".jpg\"\n",
    "            #print(filename)\n",
    "            image = misc.imread(filename)\n",
    "            x_train = np.append(x_train, image)\n",
    "            \n",
    "#print(x_train) "
   ]
  },
  {
   "cell_type": "code",
   "execution_count": 3,
   "metadata": {
    "scrolled": true
   },
   "outputs": [
    {
     "name": "stderr",
     "output_type": "stream",
     "text": [
      "C:\\Users\\s9021\\Anaconda3\\lib\\site-packages\\ipykernel_launcher.py:4: DeprecationWarning: `imread` is deprecated!\n",
      "`imread` is deprecated in SciPy 1.0.0, and will be removed in 1.2.0.\n",
      "Use ``imageio.imread`` instead.\n",
      "  after removing the cwd from sys.path.\n",
      "C:\\Users\\s9021\\Anaconda3\\lib\\site-packages\\ipykernel_launcher.py:10: DeprecationWarning: `imread` is deprecated!\n",
      "`imread` is deprecated in SciPy 1.0.0, and will be removed in 1.2.0.\n",
      "Use ``imageio.imread`` instead.\n",
      "  # Remove the CWD from sys.path while we load stuff.\n"
     ]
    }
   ],
   "source": [
    "x_test = []\n",
    "for i in range(0,test_num):\n",
    "    filename = \"c://test/img_out/\"+str(test_index)+\"/\"+str(int(i/6)) + str(i%6) + \".jpg\"\n",
    "    image = misc.imread(filename)\n",
    "    x_test = np.append(x_test, image)\n",
    "    #print(filename)\n",
    " \n",
    "for j in range(0,test_num):\n",
    "    filename = \"c://test/img_out/\"+str(test_index2)+\"/\"+str(int(j/6)) + str(j%6) + \".jpg\"\n",
    "    image = misc.imread(filename)\n",
    "    x_test = np.append(x_test, image)\n",
    "    #print(filename)"
   ]
  },
  {
   "cell_type": "markdown",
   "metadata": {},
   "source": [
    "# 載入訓練資料與測試資料的標籤\n",
    "Load the label of training data and test data "
   ]
  },
  {
   "cell_type": "code",
   "execution_count": 4,
   "metadata": {},
   "outputs": [],
   "source": [
    "y_train = []\n",
    "\n",
    "for ii in range(0,file_num):\n",
    "    filename = \"c://test/img_out/\"+str(ii)+\"/label.csv\"\n",
    "    #print(filename) \n",
    "    with open(filename) as myFile:  \n",
    "       reader = csv.reader(myFile,lineterminator='\\n')\n",
    "       for row in reader:\n",
    "          y_train =   np.append(y_train, row)\n",
    "      \n",
    "#print(y_train) \n",
    "#type(y_train)\n",
    "#a=['1' '2']\n",
    "#type(a)"
   ]
  },
  {
   "cell_type": "code",
   "execution_count": 5,
   "metadata": {},
   "outputs": [],
   "source": [
    "filename = \"c://test/img_out/\"+str(test_index)+\"/label.csv\"\n",
    "y_test = []\n",
    "y_test_tmp = []\n",
    "with open(filename) as myFile:  \n",
    "       reader = csv.reader(myFile,lineterminator='\\n')\n",
    "       for row in reader:\n",
    "          y_test_tmp =   np.append(y_test_tmp, row)\n",
    "          \n",
    "for i in range(0,test_num):\n",
    "    y_test = np.append(y_test, y_test_tmp[i])\n",
    "    #print(filename)\n",
    "#print(y_test)\n",
    "\n",
    "filename2 = \"c://test/img_out/\"+str(test_index2)+\"/label.csv\"\n",
    "#y_test2 = []\n",
    "y_test_tmp2 = []\n",
    "with open(filename2) as myFile:  \n",
    "       reader = csv.reader(myFile,lineterminator='\\n')\n",
    "       for row in reader:\n",
    "          y_test_tmp2 =   np.append(y_test_tmp2, row)\n",
    "          \n",
    "for i in range(0,test_num):\n",
    "    y_test = np.append(y_test, y_test_tmp2[i])\n",
    "    #print(filename)\n",
    "#print(y_test)\n"
   ]
  },
  {
   "cell_type": "markdown",
   "metadata": {},
   "source": [
    "# reshape維度\n",
    "Reshape the dimension"
   ]
  },
  {
   "cell_type": "code",
   "execution_count": 6,
   "metadata": {},
   "outputs": [],
   "source": [
    "img_rows, img_cols = 28, 28 #已經二值化 加大沒差\n",
    "x_train = x_train.reshape(file_num*30, img_rows, img_cols, 1)#CNN要的是空間和影像關係->轉二維\n",
    "x_test = x_test.reshape(60, img_rows, img_cols, 1)\n",
    "input_shape = (img_rows, img_cols, 1)\n",
    "#從原本4維變3維\n",
    "x_test_copy = x_test.reshape(60, img_rows, img_cols)#未正規化前多存一份x_test_copy,方便看以後哪裡有問題可以show"
   ]
  },
  {
   "cell_type": "markdown",
   "metadata": {},
   "source": [
    "# 正規化\n",
    "Normalization"
   ]
  },
  {
   "cell_type": "code",
   "execution_count": 7,
   "metadata": {},
   "outputs": [
    {
     "name": "stdout",
     "output_type": "stream",
     "text": [
      "x_train shape: (840, 28, 28, 1)\n",
      "840 train samples\n",
      "60 test samples\n"
     ]
    }
   ],
   "source": [
    "x_train = x_train.astype('float32')\n",
    "x_test = x_test.astype('float32')#轉浮點數\n",
    "x_train /= 255#正規化\n",
    "x_test /= 255\n",
    "print('x_train shape:', x_train.shape)\n",
    "print(x_train.shape[0], 'train samples') #TRAIN的數目\n",
    "print(x_test.shape[0], 'test samples') #TEST的數目 \n",
    "# convert class vectors to binary class matrices\n",
    "\n",
    "y_test_categories = y_test#y_test未做one-hot前先備份\n",
    "\n",
    "y_train = keras.utils.to_categorical(y_train, num_classes) #做one-hot encoding \n",
    "y_test = keras.utils.to_categorical(y_test, num_classes)\n",
    "#xx=['0','1','2','3','4','5','6','7','8','9']\n",
    "#xx=keras.utils.to_categorical(xx, 10)"
   ]
  },
  {
   "cell_type": "markdown",
   "metadata": {},
   "source": [
    "# 建立Sequential模型並訓練 (4層convolution)\n",
    "Build the Sequential model and train(4-layer convolution)"
   ]
  },
  {
   "cell_type": "code",
   "execution_count": 13,
   "metadata": {},
   "outputs": [
    {
     "name": "stdout",
     "output_type": "stream",
     "text": [
      "Train on 840 samples, validate on 60 samples\n",
      "Epoch 1/15\n",
      "840/840 [==============================] - 6s 7ms/step - loss: 1.8295 - acc: 0.2357 - val_loss: 1.8033 - val_acc: 0.2000\n",
      "Epoch 2/15\n",
      "840/840 [==============================] - 5s 6ms/step - loss: 1.5961 - acc: 0.3702 - val_loss: 1.2474 - val_acc: 0.5667\n",
      "Epoch 3/15\n",
      "840/840 [==============================] - 5s 6ms/step - loss: 1.0342 - acc: 0.6702 - val_loss: 0.7308 - val_acc: 0.8000\n",
      "Epoch 4/15\n",
      "840/840 [==============================] - 5s 6ms/step - loss: 0.6577 - acc: 0.8262 - val_loss: 0.4423 - val_acc: 0.8833\n",
      "Epoch 5/15\n",
      "840/840 [==============================] - 4s 5ms/step - loss: 0.4337 - acc: 0.8774 - val_loss: 0.4634 - val_acc: 0.8500\n",
      "Epoch 6/15\n",
      "840/840 [==============================] - 5s 6ms/step - loss: 0.3344 - acc: 0.9071 - val_loss: 0.2081 - val_acc: 0.9167\n",
      "Epoch 7/15\n",
      "840/840 [==============================] - 5s 6ms/step - loss: 0.2222 - acc: 0.9286 - val_loss: 0.1611 - val_acc: 0.9667\n",
      "Epoch 8/15\n",
      "840/840 [==============================] - 5s 5ms/step - loss: 0.1265 - acc: 0.9512 - val_loss: 0.1104 - val_acc: 0.9667\n",
      "Epoch 9/15\n",
      "840/840 [==============================] - 5s 6ms/step - loss: 0.0981 - acc: 0.9679 - val_loss: 0.0786 - val_acc: 0.9667\n",
      "Epoch 10/15\n",
      "840/840 [==============================] - 5s 5ms/step - loss: 0.0757 - acc: 0.9762 - val_loss: 0.0972 - val_acc: 0.9667\n",
      "Epoch 11/15\n",
      "840/840 [==============================] - 5s 5ms/step - loss: 0.0769 - acc: 0.9726 - val_loss: 0.0877 - val_acc: 0.9667\n",
      "Epoch 12/15\n",
      "840/840 [==============================] - 5s 6ms/step - loss: 0.0430 - acc: 0.9845 - val_loss: 0.1355 - val_acc: 0.9500\n",
      "Epoch 13/15\n",
      "840/840 [==============================] - 5s 6ms/step - loss: 0.0566 - acc: 0.9821 - val_loss: 0.0793 - val_acc: 0.9667\n",
      "Epoch 14/15\n",
      "840/840 [==============================] - 4s 5ms/step - loss: 0.0337 - acc: 0.9905 - val_loss: 0.1717 - val_acc: 0.9667\n",
      "Epoch 15/15\n",
      "840/840 [==============================] - 4s 5ms/step - loss: 0.0294 - acc: 0.9952 - val_loss: 0.0864 - val_acc: 0.9667\n",
      "Test loss: 0.0864271933833758\n",
      "Test accuracy: 0.9666666746139526\n"
     ]
    }
   ],
   "source": [
    "from keras import optimizers#之前優化的結果用在這試看看 ->4層 convolution變大 , optimizer變sgd\n",
    "from keras.layers import Activation\n",
    "\n",
    "epochs = 15\n",
    "\n",
    "model = Sequential()\n",
    "model.add(Conv2D(32, (3, 3), padding='same',\n",
    "                 input_shape=x_train.shape[1:]))\n",
    "model.add(Activation('relu'))\n",
    "model.add(Conv2D(32, (3, 3)))\n",
    "model.add(Activation('relu'))\n",
    "model.add(MaxPooling2D(pool_size=(2, 2)))\n",
    "model.add(Dropout(0.25))\n",
    "\n",
    "model.add(Conv2D(64, (3, 3), padding='same'))\n",
    "model.add(Activation('relu'))\n",
    "model.add(Conv2D(64, (3, 3)))\n",
    "model.add(Activation('relu'))\n",
    "model.add(MaxPooling2D(pool_size=(2, 2)))\n",
    "model.add(Dropout(0.25))\n",
    "\n",
    "model.add(Flatten())\n",
    "model.add(Dense(512))\n",
    "model.add(Activation('relu'))\n",
    "model.add(Dropout(0.5))\n",
    "model.add(Dense(num_classes))\n",
    "model.add(Activation('softmax'))\n",
    "\n",
    "sgd = optimizers.SGD(lr=0.01, decay=1e-6, momentum=0.9, nesterov=True)\n",
    "\n",
    "\n",
    "model.compile(loss=keras.losses.categorical_crossentropy,\n",
    "              optimizer=sgd,\n",
    "              metrics=['accuracy'])\n",
    "history2=model.fit(x_train, y_train,\n",
    "          batch_size=batch_size,\n",
    "          epochs=epochs,\n",
    "          verbose=1,\n",
    "          validation_data=(x_test, y_test))\n",
    "score1 = model.evaluate(x_test, y_test, verbose=0)\n",
    "print('Test loss:', score1[0])\n",
    "print('Test accuracy:', score1[1])\n"
   ]
  },
  {
   "cell_type": "code",
   "execution_count": 14,
   "metadata": {},
   "outputs": [
    {
     "data": {
      "image/png": "[encoded data removed]",
      "text/plain": [
       "<Figure size 432x288 with 1 Axes>"
      ]
     },
     "metadata": {},
     "output_type": "display_data"
    },
    {
     "data": {
      "text/plain": [
       "<Figure size 432x288 with 0 Axes>"
      ]
     },
     "metadata": {},
     "output_type": "display_data"
    }
   ],
   "source": [
    "plt.clf()\n",
    "plt.xlabel('Epoch')\n",
    "plt.ylabel('Accuracy')\n",
    "plt.title('Training data')\n",
    "plt.plot(history2.history['acc'])\n",
    "plt.plot(history2.history['val_acc'])\n",
    "plt.legend(['training','validation'],loc='lower right')\n",
    "plt.show()\n",
    "plt.clf()"
   ]
  },
  {
   "cell_type": "code",
   "execution_count": 15,
   "metadata": {},
   "outputs": [
    {
     "data": {
      "image/png": "[encoded data removed]",
      "text/plain": [
       "<Figure size 432x288 with 1 Axes>"
      ]
     },
     "metadata": {},
     "output_type": "display_data"
    }
   ],
   "source": [
    "plt.clf()\n",
    "plt.xlabel('Epoch')\n",
    "plt.ylabel('Loss')\n",
    "plt.title('Training data')\n",
    "plt.plot(history2.history['loss'])\n",
    "plt.plot(history2.history['val_loss'])\n",
    "plt.legend(['training','validation'],loc='upper right')\n",
    "plt.show()"
   ]
  },
  {
   "cell_type": "markdown",
   "metadata": {},
   "source": [
    "# 混淆矩陣Confusion matrix\n",
    "Confusion matrix"
   ]
  },
  {
   "cell_type": "code",
   "execution_count": 17,
   "metadata": {},
   "outputs": [
    {
     "data": {
      "text/html": [
       "<div>\n",
       "<style scoped>\n",
       "    .dataframe tbody tr th:only-of-type {\n",
       "        vertical-align: middle;\n",
       "    }\n",
       "\n",
       "    .dataframe tbody tr th {\n",
       "        vertical-align: top;\n",
       "    }\n",
       "\n",
       "    .dataframe thead th {\n",
       "        text-align: right;\n",
       "    }\n",
       "</style>\n",
       "<table border=\"1\" class=\"dataframe\">\n",
       "  <thead>\n",
       "    <tr style=\"text-align: right;\">\n",
       "      <th>predict</th>\n",
       "      <th>1</th>\n",
       "      <th>2</th>\n",
       "      <th>3</th>\n",
       "      <th>4</th>\n",
       "      <th>5</th>\n",
       "      <th>6</th>\n",
       "    </tr>\n",
       "    <tr>\n",
       "      <th>label</th>\n",
       "      <th></th>\n",
       "      <th></th>\n",
       "      <th></th>\n",
       "      <th></th>\n",
       "      <th></th>\n",
       "      <th></th>\n",
       "    </tr>\n",
       "  </thead>\n",
       "  <tbody>\n",
       "    <tr>\n",
       "      <th>1</th>\n",
       "      <td>18</td>\n",
       "      <td>0</td>\n",
       "      <td>0</td>\n",
       "      <td>2</td>\n",
       "      <td>0</td>\n",
       "      <td>0</td>\n",
       "    </tr>\n",
       "    <tr>\n",
       "      <th>2</th>\n",
       "      <td>0</td>\n",
       "      <td>7</td>\n",
       "      <td>0</td>\n",
       "      <td>0</td>\n",
       "      <td>0</td>\n",
       "      <td>0</td>\n",
       "    </tr>\n",
       "    <tr>\n",
       "      <th>3</th>\n",
       "      <td>0</td>\n",
       "      <td>0</td>\n",
       "      <td>9</td>\n",
       "      <td>0</td>\n",
       "      <td>0</td>\n",
       "      <td>0</td>\n",
       "    </tr>\n",
       "    <tr>\n",
       "      <th>4</th>\n",
       "      <td>0</td>\n",
       "      <td>0</td>\n",
       "      <td>0</td>\n",
       "      <td>7</td>\n",
       "      <td>0</td>\n",
       "      <td>0</td>\n",
       "    </tr>\n",
       "    <tr>\n",
       "      <th>5</th>\n",
       "      <td>0</td>\n",
       "      <td>0</td>\n",
       "      <td>0</td>\n",
       "      <td>0</td>\n",
       "      <td>9</td>\n",
       "      <td>0</td>\n",
       "    </tr>\n",
       "    <tr>\n",
       "      <th>6</th>\n",
       "      <td>0</td>\n",
       "      <td>0</td>\n",
       "      <td>0</td>\n",
       "      <td>0</td>\n",
       "      <td>0</td>\n",
       "      <td>8</td>\n",
       "    </tr>\n",
       "  </tbody>\n",
       "</table>\n",
       "</div>"
      ],
      "text/plain": [
       "predict   1  2  3  4  5  6\n",
       "label                     \n",
       "1        18  0  0  2  0  0\n",
       "2         0  7  0  0  0  0\n",
       "3         0  0  9  0  0  0\n",
       "4         0  0  0  7  0  0\n",
       "5         0  0  0  0  9  0\n",
       "6         0  0  0  0  0  8"
      ]
     },
     "execution_count": 17,
     "metadata": {},
     "output_type": "execute_result"
    }
   ],
   "source": [
    "import pandas as pd\n",
    "prediction = model.predict_classes(x_test)\n",
    "pd.crosstab(y_test_categories, prediction, rownames=['label'], colnames=['predict'])"
   ]
  },
  {
   "cell_type": "code",
   "execution_count": 18,
   "metadata": {},
   "outputs": [
    {
     "name": "stdout",
     "output_type": "stream",
     "text": [
      "(60, 2)\n"
     ]
    },
    {
     "data": {
      "text/html": [
       "<div>\n",
       "<style scoped>\n",
       "    .dataframe tbody tr th:only-of-type {\n",
       "        vertical-align: middle;\n",
       "    }\n",
       "\n",
       "    .dataframe tbody tr th {\n",
       "        vertical-align: top;\n",
       "    }\n",
       "\n",
       "    .dataframe thead th {\n",
       "        text-align: right;\n",
       "    }\n",
       "</style>\n",
       "<table border=\"1\" class=\"dataframe\">\n",
       "  <thead>\n",
       "    <tr style=\"text-align: right;\">\n",
       "      <th></th>\n",
       "      <th>label</th>\n",
       "      <th>predict</th>\n",
       "    </tr>\n",
       "  </thead>\n",
       "  <tbody>\n",
       "    <tr>\n",
       "      <th>29</th>\n",
       "      <td>1</td>\n",
       "      <td>4</td>\n",
       "    </tr>\n",
       "    <tr>\n",
       "      <th>59</th>\n",
       "      <td>1</td>\n",
       "      <td>4</td>\n",
       "    </tr>\n",
       "  </tbody>\n",
       "</table>\n",
       "</div>"
      ],
      "text/plain": [
       "   label  predict\n",
       "29     1        4\n",
       "59     1        4"
      ]
     },
     "execution_count": 18,
     "metadata": {},
     "output_type": "execute_result"
    }
   ],
   "source": [
    "df = pd.DataFrame( {'label':y_test_categories, 'predict':prediction} )\n",
    "print(df.shape)\n",
    "#df[:2]\n",
    "df[(df.label=='1')&(df.predict==4)]"
   ]
  },
  {
   "cell_type": "markdown",
   "metadata": {},
   "source": [
    "# 顯示預測錯誤的符石\n",
    "Shows the Runestone that is predicted to be wrong"
   ]
  },
  {
   "cell_type": "code",
   "execution_count": 20,
   "metadata": {},
   "outputs": [
    {
     "data": {
      "image/png": "[encoded data removed]",
      "text/plain": [
       "<Figure size 144x144 with 1 Axes>"
      ]
     },
     "metadata": {},
     "output_type": "display_data"
    },
    {
     "data": {
      "image/png": "[encoded data removed]",
      "text/plain": [
       "<Figure size 144x144 with 1 Axes>"
      ]
     },
     "metadata": {},
     "output_type": "display_data"
    }
   ],
   "source": [
    "from matplotlib import pyplot as plt\n",
    "# Plot inline\n",
    "get_ipython().magic('matplotlib inline')\n",
    "def plot_image(image):\n",
    "    fig = plt.gcf()\n",
    "    fig.set_size_inches(2, 2)\n",
    "    plt.imshow(image, cmap='binary')\n",
    "    plt.show()\n",
    "\n",
    "plot_image(x_test_copy[29]) \n",
    "plot_image(x_test_copy[59])  "
   ]
  },
  {
   "cell_type": "markdown",
   "metadata": {},
   "source": [
    "# 將模型匯出成JSON，並將weights匯出成HDF5\n",
    "Export the model into a JSON file and export the weights to HDF5"
   ]
  },
  {
   "cell_type": "code",
   "execution_count": null,
   "metadata": {},
   "outputs": [],
   "source": [
    "# serialize model to JSON\n",
    "model_json = model.to_json()\n",
    "with open(\"c://test/final_model_new.json\", \"w\") as json_file:\n",
    "    json_file.write(model_json)\n",
    "    \n",
    "model.save_weights('c://test/final_model_weights_new.h5') "
   ]
  },
  {
   "cell_type": "code",
   "execution_count": null,
   "metadata": {},
   "outputs": [],
   "source": [
    "from keras.models import model_from_json\n",
    "json_file = open('c://test/final_model.json', 'r')\n",
    "loaded_model_json = json_file.read()\n",
    "json_file.close()\n",
    "loaded_model = model_from_json(loaded_model_json)\n",
    "# load weights into new model\n",
    "loaded_model.load_weights(\"c://test/final_model_weights.h5\")\n",
    "print(\"Loaded model from disk\")\n",
    "loaded_model.compile(loss='categorical_crossentropy', optimizer='adam',metrics=['accuracy'])\n",
    "score2 = loaded_model.evaluate(x_test, y_test,verbose=0)\n",
    "print('Test loss:', score2[0])\n",
    "print('Test accuracy:', score2[1])"
   ]
  }
 ],
 "metadata": {
  "kernelspec": {
   "display_name": "Python 3",
   "language": "python",
   "name": "python3"
  },
  "language_info": {
   "codemirror_mode": {
    "name": "ipython",
    "version": 3
   },
   "file_extension": ".py",
   "mimetype": "text/x-python",
   "name": "python",
   "nbconvert_exporter": "python",
   "pygments_lexer": "ipython3",
   "version": "3.6.4"
  }
 },
 "nbformat": 4,
 "nbformat_minor": 2
}
